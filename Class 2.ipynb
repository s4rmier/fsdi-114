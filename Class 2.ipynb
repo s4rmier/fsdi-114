{
 "cells": [
  {
   "cell_type": "code",
   "execution_count": 3,
   "id": "9ddc884c-28c4-4bb1-823f-d49cdb0d4aeb",
   "metadata": {},
   "outputs": [],
   "source": [
    "#simplified implementation of Stack (using built-in data structures)\n",
    "\n",
    "class Stack:\n",
    "    def __init__(self):\n",
    "        self.items = []\n",
    "\n",
    "    def push(self, value):\n",
    "        self.items.append(value)\n",
    "\n",
    "    def pop(self):\n",
    "        return self.items.pop()\n",
    "\n",
    "    #nice to have methods:\n",
    "    def size(self):\n",
    "        return len(self.items)\n",
    "\n",
    "    def peek(self):\n",
    "        return self.items[len(self.items)-1]\n",
    "\n",
    "    def is_empty(self):\n",
    "        return self.items == []"
   ]
  },
  {
   "cell_type": "code",
   "execution_count": 6,
   "id": "dcfac12a-ac2a-4266-8f51-2162a79084cd",
   "metadata": {},
   "outputs": [],
   "source": [
    "def invert_str(mystring):\n",
    "    stack = Stack()\n",
    "    out = \"\"\n",
    "    for char in mystring:\n",
    "        stack.push(char)\n",
    "    while not stack.is_empty():\n",
    "        out += stack.pop()\n",
    "    return out"
   ]
  },
  {
   "cell_type": "code",
   "execution_count": 7,
   "id": "d40cf487-80a2-4b08-acd8-e01611fcb7cd",
   "metadata": {},
   "outputs": [
    {
     "data": {
      "text/plain": [
       "'kcinmoR'"
      ]
     },
     "execution_count": 7,
     "metadata": {},
     "output_type": "execute_result"
    }
   ],
   "source": [
    "invert_str(\"Romnick\")"
   ]
  },
  {
   "cell_type": "code",
   "execution_count": 22,
   "id": "b75c3d5b-17fe-4332-87d8-f3cfa353cedb",
   "metadata": {},
   "outputs": [],
   "source": [
    "# From scratch implementation of stack\n",
    "class StackII:\n",
    "    class __Node:\n",
    "        def __init__(self, data):\n",
    "            self.data = data\n",
    "            self.below = None\n",
    "\n",
    "    def __init__(self):\n",
    "        self.top = None\n",
    "\n",
    "    def push(self, value):\n",
    "        # Create a new Node object with the incoming data\n",
    "        new_node = self.__Node(value)\n",
    "        # Let's check if our stack is empty:\n",
    "        if not self.top:       # if self.top == None\n",
    "            self.top = new_node\n",
    "        else:\n",
    "            # Our stack is not empty:\n",
    "            old_top = self.top\n",
    "            self.top = new_node\n",
    "            new_node.below = old_top\n",
    "\n",
    "    def pop(self):\n",
    "        # if stack is not empty\n",
    "        if self.top:\n",
    "            node_below = self.top.below\n",
    "            top_value = self.top.data\n",
    "            self.top = node_below\n",
    "            return top_value\n",
    "        # if stack is empty:\n",
    "        raise IndexError(\"Stack is empty\")\n",
    "\n",
    "    # Nice to have methods\n",
    "    def peek(self):\n",
    "        if self.top:\n",
    "            return self.top.data\n",
    "        raise IndexError(\"Stack is empty\")\n",
    "\n",
    "    def size(self):\n",
    "        count = 0\n",
    "        current = self.top\n",
    "        while current:\n",
    "            count += 1\n",
    "            current = current.below\n",
    "        return count\n",
    "\n",
    "    def is_empty(self):\n",
    "        return self.top == None"
   ]
  },
  {
   "cell_type": "code",
   "execution_count": 26,
   "id": "9d4b9f32-e020-4ab8-830a-ebb7c7e634f4",
   "metadata": {},
   "outputs": [],
   "source": [
    "# Simplified implementation (relying on built-in data structures)\n",
    "\n",
    "class Queue:\n",
    "    def __init__(self):\n",
    "        self.items = []\n",
    "\n",
    "    def enqueue(self, value):\n",
    "        self.items.inser(0, value)\n",
    "\n",
    "    def dequeue(self):\n",
    "        return self.items.pop()\n",
    "\n",
    "    # nice to have methods\n",
    "    def peek(self):\n",
    "        return self.items[len(self.items)-1]\n",
    "\n",
    "    def size(self):\n",
    "        return len(self.items)\n",
    "\n",
    "    def is_empty(self):\n",
    "        return self.items == []"
   ]
  },
  {
   "cell_type": "code",
   "execution_count": 3,
   "id": "43547e18-f572-4e0b-beeb-981265f6d3e5",
   "metadata": {},
   "outputs": [],
   "source": [
    "# from sratch implementation of Queue (no built-ins)\n",
    "# boilerplate: you populate the methods\n",
    "\n",
    "class QueueII:\n",
    "    class __Node:\n",
    "        def __init__(self, data):\n",
    "            self.data = data\n",
    "            self.next = None\n",
    "            # Consider if you need/want:\n",
    "            # self.prev = None\n",
    "\n",
    "    def __init__(self):\n",
    "        self.rear = None\n",
    "        self.front = None\n",
    "        \n",
    "    def enqueue(self, value):\n",
    "        new_node = self.__Node(value)\n",
    "\n",
    "        if not self.rear:\n",
    "            self.front = self.rear = new_node\n",
    "        else:\n",
    "            self.rear.next = new_node\n",
    "            self.rear = new_node\n",
    "        \n",
    "    def dequeue(self):\n",
    "        if self.front:\n",
    "            front_node = self.front\n",
    "            self.front = front_node.nexet\n",
    "            if not self.front:\n",
    "                self.rear = None\n",
    "\n",
    "            return front_node.data\n",
    "\n",
    "        raise IndexError(\"Queue is empty\")\n",
    "\n",
    "    def peek(self):\n",
    "        if self.front:\n",
    "            return self.front.data\n",
    "        raise IndexError(\"Queue is empty\")\n",
    "        \n",
    "    def size(self):\n",
    "        queue_size = 0\n",
    "        curr_node = self.front\n",
    "\n",
    "        while curr_node:\n",
    "            queue_size += 1\n",
    "            curr_node = curr_node.next\n",
    "\n",
    "    def is_empty(self):\n",
    "        return self.front == None\n",
    "\n",
    "    def printQueue(self):\n",
    "        print(\"Elements in Queue are: \")\n",
    "        curr_node = self.front\n",
    "\n",
    "        while curr_node:\n",
    "            print(curr_node.data, end=\" <- \")\n",
    "            curr_node = curr_node.next"
   ]
  },
  {
   "cell_type": "code",
   "execution_count": 10,
   "id": "83fe9079-74ef-447b-9b2e-48d24730d460",
   "metadata": {},
   "outputs": [
    {
     "name": "stdout",
     "output_type": "stream",
     "text": [
      "Entering Person 1\n",
      "Entering Person 2\n",
      "Entering Person 3\n",
      "Entering Person 4\n",
      "Entering Person 5\n",
      "Elements in Queue are: \n",
      "None\n",
      "\n",
      "Previous to serve: \n"
     ]
    },
    {
     "ename": "AttributeError",
     "evalue": "'NoneType' object has no attribute 'data'",
     "output_type": "error",
     "traceback": [
      "\u001b[0;31m---------------------------------------------------------------------------\u001b[0m",
      "\u001b[0;31mAttributeError\u001b[0m                            Traceback (most recent call last)",
      "Cell \u001b[0;32mIn[10], line 9\u001b[0m\n\u001b[1;32m      7\u001b[0m \u001b[38;5;28mprint\u001b[39m(\u001b[38;5;124m\"\u001b[39m\u001b[38;5;124mPrevious to serve: \u001b[39m\u001b[38;5;124m\"\u001b[39m)\n\u001b[1;32m      8\u001b[0m \u001b[38;5;66;03m# print(\"Front: \", queue.front.data)\u001b[39;00m\n\u001b[0;32m----> 9\u001b[0m \u001b[38;5;28mprint\u001b[39m(\u001b[38;5;124m\"\u001b[39m\u001b[38;5;124mRear: \u001b[39m\u001b[38;5;124m\"\u001b[39m, \u001b[43mqueue\u001b[49m\u001b[38;5;241;43m.\u001b[39;49m\u001b[43mrear\u001b[49m\u001b[38;5;241;43m.\u001b[39;49m\u001b[43mdata\u001b[49m)\n\u001b[1;32m     11\u001b[0m \u001b[38;5;28mprint\u001b[39m(\u001b[38;5;124m\"\u001b[39m\u001b[38;5;124mStarting: \u001b[39m\u001b[38;5;124m\"\u001b[39m)\n\u001b[1;32m     12\u001b[0m \u001b[38;5;28;01mfor\u001b[39;00m x \u001b[38;5;129;01min\u001b[39;00m \u001b[38;5;28mrange\u001b[39m(queue\u001b[38;5;241m.\u001b[39msize()):\n",
      "\u001b[0;31mAttributeError\u001b[0m: 'NoneType' object has no attribute 'data'"
     ]
    }
   ],
   "source": [
    "queue = QueueII()\n",
    "\n",
    "for i in range(5):\n",
    "    print(\"Entering Person %s\" % ( i + 1))\n",
    "\n",
    "print(queue.printQueue(), end=\"\\n\\n\")\n",
    "print(\"Previous to serve: \")\n",
    "print(\"Front: \", queue.front.data)\n",
    "print(\"Rear: \", queue.rear.data)\n",
    "\n",
    "print(\"Starting: \")\n",
    "for x in range(queue.size()):\n",
    "    print(\"Now serving: \", queue.dequeue())\n",
    "    if queue.front:\n",
    "        print(queue.printQueue())\n",
    "    else:\n",
    "        print(\"-> The queue is empty\")\n",
    "print(\"\\n\\nEnd of queue, final size: \", queue.size())"
   ]
  },
  {
   "cell_type": "code",
   "execution_count": null,
   "id": "c6aab202-f6ea-4f1f-8136-f8e58d521983",
   "metadata": {},
   "outputs": [],
   "source": []
  }
 ],
 "metadata": {
  "kernelspec": {
   "display_name": "Python 3 (ipykernel)",
   "language": "python",
   "name": "python3"
  },
  "language_info": {
   "codemirror_mode": {
    "name": "ipython",
    "version": 3
   },
   "file_extension": ".py",
   "mimetype": "text/x-python",
   "name": "python",
   "nbconvert_exporter": "python",
   "pygments_lexer": "ipython3",
   "version": "3.9.6"
  }
 },
 "nbformat": 4,
 "nbformat_minor": 5
}
