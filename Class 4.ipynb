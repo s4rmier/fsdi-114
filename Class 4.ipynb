{
 "cells": [
  {
   "cell_type": "code",
   "execution_count": 7,
   "id": "d297a594-a8a1-49d4-950d-bd5e63e4911c",
   "metadata": {},
   "outputs": [],
   "source": [
    "# Doubly Linked Lists\n",
    "\n",
    "class DoublyLinkedList:\n",
    "    class __Node:\n",
    "        def __init__(self, data):\n",
    "            self.data = data\n",
    "            self.next = None\n",
    "            self.prev = None\n",
    "\n",
    "    def __init__(self):\n",
    "        self.head = None\n",
    "\n",
    "    def append(self, value):\n",
    "        new_node = self.__Node(value)\n",
    "        if not self.head:\n",
    "            self.head = new_node\n",
    "            self.tail = new_node\n",
    "        else:\n",
    "            current = self.head\n",
    "            while current.next:\n",
    "                current = current.next\n",
    "            current.next = new_node\n",
    "            new_node.prev = current\n",
    "\n",
    "    def insert(self, index, value):\n",
    "        pass\n",
    "\n",
    "    def remove(self, value):\n",
    "        pass\n",
    "\n",
    "    def __len__(self):\n",
    "        return \"\"\n",
    "\n",
    "    def __str__(self):\n",
    "        return \"\"\n",
    "\n",
    "    def __repr__(self):\n",
    "        return self.__str__()"
   ]
  },
  {
   "cell_type": "markdown",
   "id": "66f38a17-7a97-424e-aa0b-5aa475427e84",
   "metadata": {},
   "source": [
    "# Problem 1: The Matrix\n",
    "## Using the DoublyLinkedList class (above), create a class called \"Matrix\" which generates an nxm grid.\n",
    "```\n",
    "Example:\n",
    "mat = Matrix(n=3, m=3)\n",
    "for i in range(3):\n",
    "    dll = DoublyLInkedLIst()\n",
    "    for j in range(3):\n",
    "        dll.append(j)\n",
    "    mat.append(dll)\n",
    "\n",
    "The code above should produce:\n",
    "[[0, 1, 2], [0, 1 2], [0, 1, 2]\n",
    "```\n",
    "\n",
    "## Bonus\n",
    "As an additional step, get your matrix to display like this:\n",
    "```\n",
    "0 1 2\n",
    "0 1 2\n",
    "0 1 2\n",
    "```"
   ]
  },
  {
   "cell_type": "code",
   "execution_count": 4,
   "id": "21f6a83d-040b-4160-badb-73ef667d4b03",
   "metadata": {},
   "outputs": [],
   "source": [
    "class Matrix:\n",
    "    def __init__(self, n=3, m=3):\n",
    "        self.n = n\n",
    "        self.m = m\n",
    "        \n",
    "        self.container = DoublyLinkedList()\n",
    "\n",
    "    def append(self, dll):\n",
    "        self.container.append(dll)\n",
    "\n",
    "    def __str__(self):\n",
    "        return self.container.__str__()\n",
    "        "
   ]
  },
  {
   "cell_type": "code",
   "execution_count": 10,
   "id": "2c49806f-561e-4956-9c89-01ce12d508a4",
   "metadata": {},
   "outputs": [
    {
     "name": "stdout",
     "output_type": "stream",
     "text": [
      "\n"
     ]
    }
   ],
   "source": [
    "mat = Matrix()\n",
    "\n",
    "for i in range(5):\n",
    "    temp_list = DoublyLinkedList()\n",
    "    for j in range(5):\n",
    "        temp_list.append(j)\n",
    "    mat.append(temp_list)\n",
    "\n",
    "print(mat)"
   ]
  },
  {
   "cell_type": "markdown",
   "id": "44086e07-ccca-497a-af3c-1e4a5ded0a85",
   "metadata": {},
   "source": [
    "# Recursive Functions\n"
   ]
  },
  {
   "cell_type": "code",
   "execution_count": 3,
   "id": "ebfa62e7-8beb-4774-9826-0f6bfc891119",
   "metadata": {},
   "outputs": [],
   "source": [
    "# A recursive is one that calls itself at least once.\n",
    "# Another important premise of a recursive function is that is should have an exit condition\n",
    "# Typically referred to as the \"base case\"."
   ]
  },
  {
   "cell_type": "code",
   "execution_count": 12,
   "id": "60888e8e-09a6-42c3-94b0-4e837fcdc4c7",
   "metadata": {},
   "outputs": [],
   "source": [
    "# A simple example\n",
    "# The factorial function\n",
    "# A factorial of an interger N is typically denoted N! and is the result of multiplying like so:\n",
    "# Nx(N-1)x(N-2)xNx3...x1\n",
    "# Ex: 5! = 5x4x3x2x1 =\n",
    "# One important convention is that 0! = 1\n",
    "\n",
    "# Represented as a recursive function:\n",
    "def fact(n):\n",
    "    if n == 0:\n",
    "        return 1\n",
    "    return n*fact(n-1)"
   ]
  },
  {
   "cell_type": "code",
   "execution_count": 13,
   "id": "40433181-3050-44a2-b3c3-f4f5ad405558",
   "metadata": {},
   "outputs": [
    {
     "data": {
      "text/plain": [
       "120"
      ]
     },
     "execution_count": 13,
     "metadata": {},
     "output_type": "execute_result"
    }
   ],
   "source": [
    "fact(5)"
   ]
  },
  {
   "cell_type": "code",
   "execution_count": 31,
   "id": "29f29366-0c24-4d22-a1ab-0e990d916dc5",
   "metadata": {},
   "outputs": [],
   "source": [
    "# The fibonacci series\n",
    "# Fib(n) = Fib(n-1)+Fib(n-2)\n",
    "\n",
    "# The base case for fibonacci\n",
    "# F0 = 0, F1 = 1\n",
    "\n",
    "# So if we wanted to calculate F2:\n",
    "# F2 = F1 + F0\n",
    "# F3 = F2 + F1\n",
    "\n",
    "# Example:\n",
    "# 0, 1, 1, 2, 3, 5, 8 , 13, 21\n",
    "\n",
    "from functools import lru_cache\n",
    "\n",
    "# Recursive function example:\n",
    "@lru_cache\n",
    "def fib(n):\n",
    "    if n < 2:\n",
    "        return n\n",
    "    return fib(n-1) + fib(n-2)"
   ]
  },
  {
   "cell_type": "code",
   "execution_count": 34,
   "id": "1c711497-c1d4-4415-ba98-add4aa3ae4d2",
   "metadata": {},
   "outputs": [
    {
     "data": {
      "text/plain": [
       "280571172992510140037611932413038677189525"
      ]
     },
     "execution_count": 34,
     "metadata": {},
     "output_type": "execute_result"
    }
   ],
   "source": [
    "fib(200)"
   ]
  },
  {
   "cell_type": "code",
   "execution_count": 36,
   "id": "f6c153d5-fdfc-404b-818d-6695c1f601be",
   "metadata": {},
   "outputs": [],
   "source": [
    "# One list for keys\n",
    "# One list for values\n",
    "# These two lists must be of equal length at all times\n",
    "keys =   [0, 1, 2, 3, 4, 5, 6, 7, 8]\n",
    "values = [0, 1, 2, 2, 3, 5, 8, 13, 21]"
   ]
  },
  {
   "cell_type": "code",
   "execution_count": null,
   "id": "ec63efe3-1bd5-4259-90bf-be9c352fd009",
   "metadata": {},
   "outputs": [],
   "source": []
  }
 ],
 "metadata": {
  "kernelspec": {
   "display_name": "Python 3 (ipykernel)",
   "language": "python",
   "name": "python3"
  },
  "language_info": {
   "codemirror_mode": {
    "name": "ipython",
    "version": 3
   },
   "file_extension": ".py",
   "mimetype": "text/x-python",
   "name": "python",
   "nbconvert_exporter": "python",
   "pygments_lexer": "ipython3",
   "version": "3.9.6"
  }
 },
 "nbformat": 4,
 "nbformat_minor": 5
}
