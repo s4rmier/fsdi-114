{
 "cells": [
  {
   "cell_type": "code",
   "execution_count": 3,
   "id": "6cf5c955-cef2-46b9-afa3-9148bf90f5c4",
   "metadata": {},
   "outputs": [
    {
     "name": "stdout",
     "output_type": "stream",
     "text": [
      "h\n",
      "e\n",
      "l\n",
      "l\n",
      "o\n",
      ",\n",
      " \n",
      "w\n",
      "o\n",
      "r\n",
      "l\n",
      "d\n"
     ]
    }
   ],
   "source": [
    "for letter in \"hello, world\":\n",
    "    print(letter)"
   ]
  },
  {
   "cell_type": "markdown",
   "id": "7c0d1c3d-ed68-4092-8d1e-8fbde66a6daf",
   "metadata": {},
   "source": [
    "# Problem 1\n",
    "## Anagram Check\n",
    "### Create a function that receives two strings as parameters and returns 'True' if these are anagrams of each other, 'False' otherwise.\n",
    "#### Criteria\n",
    "Two Strings are anagrams of each if (and only if):\n",
    "1. They contain all the same letters.\n",
    "2. They use the same letters the same amount of times.\n",
    "3. They contain the same number of letters.\n",
    "\n",
    "```\n",
    "Examples:\n",
    "heart and earth\n",
    "scar and cars\n",
    "star and rats\n",
    "```"
   ]
  },
  {
   "cell_type": "code",
   "execution_count": 29,
   "id": "e41fae78-bd7d-4dbf-8b94-14b843b7fafc",
   "metadata": {},
   "outputs": [],
   "source": [
    "string1 = \"he art\"\n",
    "string2 = \"earth\"\n",
    "\n",
    "if len(string1) == len(string2):\n",
    "    \n",
    "    print(\"Condition 1: true\")\n",
    "\n",
    "    sorted1.replace(\" \", \"\")\n",
    "    sorted1 = string1.lower()\n",
    "    sorted2.replace(\" \", \"\")\n",
    "    sorted2 = string2.lower()\n",
    "    \n",
    "    is_anagram = True\n",
    "    sorted2_index = 0\n",
    "    \n",
    "    for letter in sorted1:\n",
    "        print(letter)"
   ]
  },
  {
   "cell_type": "code",
   "execution_count": null,
   "id": "a17631ab-798e-441e-8179-fea9c615bb07",
   "metadata": {},
   "outputs": [],
   "source": []
  }
 ],
 "metadata": {
  "kernelspec": {
   "display_name": "Python 3 (ipykernel)",
   "language": "python",
   "name": "python3"
  },
  "language_info": {
   "codemirror_mode": {
    "name": "ipython",
    "version": 3
   },
   "file_extension": ".py",
   "mimetype": "text/x-python",
   "name": "python",
   "nbconvert_exporter": "python",
   "pygments_lexer": "ipython3",
   "version": "3.9.6"
  }
 },
 "nbformat": 4,
 "nbformat_minor": 5
}
