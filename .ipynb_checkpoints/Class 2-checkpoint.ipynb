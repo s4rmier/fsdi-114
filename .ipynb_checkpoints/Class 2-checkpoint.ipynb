{
 "cells": [
  {
   "cell_type": "code",
   "execution_count": 3,
   "id": "9ddc884c-28c4-4bb1-823f-d49cdb0d4aeb",
   "metadata": {},
   "outputs": [],
   "source": [
    "#simplified implementation of Stack (using built-in data structures)\n",
    "\n",
    "class Stack:\n",
    "    def __init__(self):\n",
    "        self.items = []\n",
    "\n",
    "    def push(self, value):\n",
    "        self.items.append(value)\n",
    "\n",
    "    def pop(self):\n",
    "        return self.items.pop()\n",
    "\n",
    "    #nice to have methods:\n",
    "    def size(self):\n",
    "        return len(self.items)\n",
    "\n",
    "    def peek(self):\n",
    "        return self.items[len(self.items)-1]\n",
    "\n",
    "    def is_empty(self):\n",
    "        return self.items == []"
   ]
  },
  {
   "cell_type": "code",
   "execution_count": 6,
   "id": "dcfac12a-ac2a-4266-8f51-2162a79084cd",
   "metadata": {},
   "outputs": [],
   "source": [
    "def invert_str(mystring):\n",
    "    stack = Stack()\n",
    "    out = \"\"\n",
    "    for char in mystring:\n",
    "        stack.push(char)\n",
    "    while not stack.is_empty():\n",
    "        out += stack.pop()\n",
    "    return out"
   ]
  },
  {
   "cell_type": "code",
   "execution_count": 7,
   "id": "d40cf487-80a2-4b08-acd8-e01611fcb7cd",
   "metadata": {},
   "outputs": [
    {
     "data": {
      "text/plain": [
       "'kcinmoR'"
      ]
     },
     "execution_count": 7,
     "metadata": {},
     "output_type": "execute_result"
    }
   ],
   "source": [
    "invert_str(\"Romnick\")"
   ]
  },
  {
   "cell_type": "code",
   "execution_count": 22,
   "id": "b75c3d5b-17fe-4332-87d8-f3cfa353cedb",
   "metadata": {},
   "outputs": [],
   "source": [
    "# From scratch implementation of stack\n",
    "class StackII:\n",
    "    class __Node:\n",
    "        def __init__(self, data):\n",
    "            self.data = data\n",
    "            self.below = None\n",
    "\n",
    "    def __init__(self):\n",
    "        self.top = None\n",
    "\n",
    "    def push(self, value):\n",
    "        # Create a new Node object with the incoming data\n",
    "        new_node = self.__Node(value)\n",
    "        # Let's check if our stack is empty:\n",
    "        if not self.top:       # if self.top == None\n",
    "            self.top = new_node\n",
    "        else:\n",
    "            # Our stack is not empty:\n",
    "            old_top = self.top\n",
    "            self.top = new_node\n",
    "            new_node.below = old_top\n",
    "\n",
    "    def pop(self):\n",
    "        # if stack is not empty\n",
    "        if self.top:\n",
    "            node_below = self.top.below\n",
    "            top_value = self.top.data\n",
    "            self.top = node_below\n",
    "            return top_value\n",
    "        # if stack is empty:\n",
    "        raise IndexError(\"Stack is empty\")\n",
    "\n",
    "    # Nice to have methods\n",
    "    def peek(self):\n",
    "        if self.top:\n",
    "            return self.top.data\n",
    "        raise IndexError(\"Stack is empty\")\n",
    "\n",
    "    def size(self):\n",
    "        count = 0\n",
    "        current = self.top\n",
    "        while current:\n",
    "            count += 1\n",
    "            current = current.below\n",
    "        return count\n",
    "\n",
    "    def is_empty(self):\n",
    "        return self.top == None"
   ]
  },
  {
   "cell_type": "code",
   "execution_count": 26,
   "id": "9d4b9f32-e020-4ab8-830a-ebb7c7e634f4",
   "metadata": {},
   "outputs": [],
   "source": [
    "# Simplified implementation (relying on built-in data structures)\n",
    "\n",
    "class Queue:\n",
    "    def __init__(self):\n",
    "        self.items = []\n",
    "\n",
    "    def enqueue(self, value):\n",
    "        self.items.inser(0, value)\n",
    "\n",
    "    def dequeue(self):\n",
    "        return self.items.pop()\n",
    "\n",
    "    # nice to have methods\n",
    "    def peek(self):\n",
    "        return self.items[len(self.items)-1]\n",
    "\n",
    "    def size(self):\n",
    "        return len(self.items)\n",
    "\n",
    "    def is_empty(self):\n",
    "        return self.items == []"
   ]
  },
  {
   "cell_type": "code",
   "execution_count": null,
   "id": "43547e18-f572-4e0b-beeb-981265f6d3e5",
   "metadata": {},
   "outputs": [],
   "source": [
    "# from sratch implementation of Queue (no built-ins)\n",
    "# boilerplate: you populate the methods\n",
    "\n",
    "class QueueII:\n",
    "    class __Node:\n",
    "        def __init__(self, data):\n",
    "            self.data = data\n",
    "            self.next = None\n",
    "            # Consider if you need/want:\n",
    "            # self.prev = None\n",
    "\n",
    "    def __init__(self):\n",
    "        self.rear = None\n",
    "        self.front = None\n",
    "        \n",
    "    def enqueue(self, value):\n",
    "        pass\n",
    "        \n",
    "    def dequeue(self):\n",
    "        pass\n",
    "\n",
    "    def peek(self):\n",
    "        if self.front:\n",
    "            return self.front.data\n",
    "        raise IndexError(\"Queue is empty\")\n",
    "        \n",
    "    def size(self):\n",
    "        queue_size = 0\n",
    "        curr_node = self.front\n",
    "\n",
    "        while curr_node:\n",
    "            queue_size += 1\n",
    "            curr_node = curr_node.next\n",
    "\n",
    "    def is_empty(self):\n",
    "        return self.front == None\n",
    "        "
   ]
  }
 ],
 "metadata": {
  "kernelspec": {
   "display_name": "Python 3 (ipykernel)",
   "language": "python",
   "name": "python3"
  },
  "language_info": {
   "codemirror_mode": {
    "name": "ipython",
    "version": 3
   },
   "file_extension": ".py",
   "mimetype": "text/x-python",
   "name": "python",
   "nbconvert_exporter": "python",
   "pygments_lexer": "ipython3",
   "version": "3.9.6"
  }
 },
 "nbformat": 4,
 "nbformat_minor": 5
}
